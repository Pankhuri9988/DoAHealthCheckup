{
 "cells": [
  {
   "cell_type": "code",
   "execution_count": 1,
   "metadata": {},
   "outputs": [],
   "source": [
    "import numpy as np\n",
    "import pandas as pd"
   ]
  },
  {
   "cell_type": "code",
   "execution_count": 2,
   "metadata": {},
   "outputs": [],
   "source": [
    "data=pd.read_csv(r'C:\\Users\\KIIT\\Downloads\\ML\\foodDiet.csv');"
   ]
  },
  {
   "cell_type": "code",
   "execution_count": 3,
   "metadata": {},
   "outputs": [
    {
     "data": {
      "text/plain": [
       "(   Person  gender  Age  Height  pre.weight  Diet  weight6weeks\n",
       " 0      25       0   41     171          60     2          60.0\n",
       " 1      26       0   32     174         103     2         103.0\n",
       " 2       1       0   22     159          58     1          54.2\n",
       " 3       2       0   46     192          60     1          54.0\n",
       " 4       3       0   55     170          64     1          63.3,\n",
       " (78, 7),\n",
       " Index(['Person', 'gender', 'Age', 'Height', 'pre.weight', 'Diet',\n",
       "        'weight6weeks'],\n",
       "       dtype='object'))"
      ]
     },
     "execution_count": 3,
     "metadata": {},
     "output_type": "execute_result"
    }
   ],
   "source": [
    "data.head(),data.shape,data.columns"
   ]
  },
  {
   "cell_type": "code",
   "execution_count": 4,
   "metadata": {},
   "outputs": [],
   "source": [
    "x=data.drop(['weight6weeks','Age','Person',],axis=1)\n",
    "y=data['weight6weeks']\n",
    "x_prd=x[51:]"
   ]
  },
  {
   "cell_type": "code",
   "execution_count": 5,
   "metadata": {},
   "outputs": [],
   "source": [
    "from sklearn.model_selection import train_test_split\n",
    "x_tr,x_ts,y_tr,y_ts=train_test_split(x,y,test_size=0.2)"
   ]
  },
  {
   "cell_type": "code",
   "execution_count": 6,
   "metadata": {},
   "outputs": [
    {
     "data": {
      "text/plain": [
       "(0.8693594930616758,\n",
       " array([79.86903864, 81.84394732, 83.89160689, 85.07416586, 66.8771655 ,\n",
       "        71.02539437, 71.00555322, 71.9897007 , 73.83894878, 74.06381513,\n",
       "        74.88261971, 74.93552944, 75.11409978, 76.01888267, 76.0321101 ,\n",
       "        65.84056394, 68.0469527 , 71.03246374, 73.12641932, 73.15287418,\n",
       "        73.16610162, 74.1899314 , 78.31170539, 79.29585288, 80.23370435,\n",
       "        82.30120506, 83.37794458]))"
      ]
     },
     "execution_count": 6,
     "metadata": {},
     "output_type": "execute_result"
    }
   ],
   "source": [
    "from sklearn.linear_model import LinearRegression\n",
    "algo=LinearRegression()\n",
    "algo.fit(x_tr,y_tr)\n",
    "algo.score(x_ts,y_ts),algo.predict(x_prd)"
   ]
  },
  {
   "cell_type": "code",
   "execution_count": 7,
   "metadata": {},
   "outputs": [],
   "source": [
    "x_prd=x[70:]"
   ]
  },
  {
   "cell_type": "code",
   "execution_count": 8,
   "metadata": {},
   "outputs": [
    {
     "name": "stderr",
     "output_type": "stream",
     "text": [
      "D:\\kiit_user_download\\Anaconda3\\lib\\site-packages\\ipykernel_launcher.py:4: DataConversionWarning: Data with input dtype int64 were all converted to float64 by the scale function.\n",
      "  after removing the cwd from sys.path.\n",
      "D:\\kiit_user_download\\Anaconda3\\lib\\site-packages\\ipykernel_launcher.py:5: DataConversionWarning: Data with input dtype int64 were all converted to float64 by the scale function.\n",
      "  \"\"\"\n",
      "D:\\kiit_user_download\\Anaconda3\\lib\\site-packages\\ipykernel_launcher.py:5: DataConversionWarning: Data with input dtype int64 were all converted to float64 by the scale function.\n",
      "  \"\"\"\n"
     ]
    },
    {
     "data": {
      "text/plain": [
       "(0.7489472145750241,\n",
       " array([58.92, 58.92, 58.92, 70.08, 71.3 , 70.92, 75.18, 77.26]))"
      ]
     },
     "execution_count": 8,
     "metadata": {},
     "output_type": "execute_result"
    }
   ],
   "source": [
    "from sklearn.preprocessing import scale\n",
    "from sklearn.neighbors import KNeighborsRegressor\n",
    "algo1=KNeighborsRegressor()\n",
    "algo1.fit(scale(x_tr),y_tr)\n",
    "algo1.score(scale(x_ts),y_ts),algo1.predict(scale(x_prd))"
   ]
  },
  {
   "cell_type": "code",
   "execution_count": 12,
   "metadata": {},
   "outputs": [
    {
     "name": "stderr",
     "output_type": "stream",
     "text": [
      "D:\\kiit_user_download\\Anaconda3\\lib\\site-packages\\sklearn\\ensemble\\forest.py:246: FutureWarning: The default value of n_estimators will change from 10 in version 0.20 to 100 in 0.22.\n",
      "  \"10 in version 0.20 to 100 in 0.22.\", FutureWarning)\n"
     ]
    },
    {
     "data": {
      "text/plain": [
       "(0.8055796412643885,\n",
       " array([74.04, 69.98, 73.55, 79.99, 79.98, 79.47, 81.64, 81.98]))"
      ]
     },
     "execution_count": 12,
     "metadata": {},
     "output_type": "execute_result"
    }
   ],
   "source": [
    "from sklearn.ensemble import RandomForestRegressor\n",
    "algo4=RandomForestRegressor()\n",
    "algo4.fit(x_tr,y_tr)\n",
    "algo4.score(x_ts,y_ts),algo4.predict(x_prd)"
   ]
  },
  {
   "cell_type": "code",
   "execution_count": 13,
   "metadata": {},
   "outputs": [
    {
     "data": {
      "text/plain": [
       "Person          0.196728\n",
       "gender          0.611748\n",
       "Age             0.010472\n",
       "Height          0.183998\n",
       "pre.weight      0.958449\n",
       "Diet           -0.048050\n",
       "weight6weeks    1.000000\n",
       "Name: weight6weeks, dtype: float64"
      ]
     },
     "execution_count": 13,
     "metadata": {},
     "output_type": "execute_result"
    }
   ],
   "source": [
    "data.corr()['weight6weeks']"
   ]
  },
  {
   "cell_type": "code",
   "execution_count": 14,
   "metadata": {},
   "outputs": [
    {
     "data": {
      "text/plain": [
       "<bound method NDFrame.head of     gender  Height  pre.weight  Diet\n",
       "70       1     177          78     3\n",
       "71       1     179          78     3\n",
       "72       1     179          79     3\n",
       "73       1     183          83     3\n",
       "74       1     177          84     3\n",
       "75       1     164          85     3\n",
       "76       1     167          87     3\n",
       "77       1     175          88     3>"
      ]
     },
     "execution_count": 14,
     "metadata": {},
     "output_type": "execute_result"
    }
   ],
   "source": [
    "x_prd.head"
   ]
  },
  {
   "cell_type": "code",
   "execution_count": 15,
   "metadata": {},
   "outputs": [],
   "source": [
    "x_prd=[[0,177,80,2]]"
   ]
  },
  {
   "cell_type": "code",
   "execution_count": 16,
   "metadata": {},
   "outputs": [],
   "source": [
    "x_p=pd.DataFrame(x_prd,columns=['Gender','Height','pre.weight','Diet'])"
   ]
  },
  {
   "cell_type": "code",
   "execution_count": 17,
   "metadata": {},
   "outputs": [
    {
     "data": {
      "text/plain": [
       "(0.8693594930616758, array([76.5614514]))"
      ]
     },
     "execution_count": 17,
     "metadata": {},
     "output_type": "execute_result"
    }
   ],
   "source": [
    "from sklearn.linear_model import LinearRegression\n",
    "algo=LinearRegression()\n",
    "algo.fit(x_tr,y_tr)\n",
    "algo.score(x_ts,y_ts),algo.predict(x_p)"
   ]
  },
  {
   "cell_type": "code",
   "execution_count": 18,
   "metadata": {},
   "outputs": [
    {
     "data": {
      "text/plain": [
       "(0.8305770730240326, array([77.4]))"
      ]
     },
     "execution_count": 18,
     "metadata": {},
     "output_type": "execute_result"
    }
   ],
   "source": [
    "from sklearn.ensemble import AdaBoostRegressor\n",
    "algo5=AdaBoostRegressor()\n",
    "algo5.fit(x_tr,y_tr)\n",
    "algo5.score(x_ts,y_ts),algo5.predict(x_p)"
   ]
  },
  {
   "cell_type": "code",
   "execution_count": 19,
   "metadata": {},
   "outputs": [
    {
     "data": {
      "text/plain": [
       "(0.7696723855967669, array([79.52760165]))"
      ]
     },
     "execution_count": 19,
     "metadata": {},
     "output_type": "execute_result"
    }
   ],
   "source": [
    "from sklearn.ensemble import GradientBoostingRegressor\n",
    "algo6=GradientBoostingRegressor()\n",
    "algo6.fit(x_tr,y_tr)\n",
    "algo6.score(x_ts,y_ts),algo6.predict(x_prd)"
   ]
  },
  {
   "cell_type": "code",
   "execution_count": 20,
   "metadata": {},
   "outputs": [
    {
     "data": {
      "text/plain": [
       "(0.7792894646355842, array([81.4]))"
      ]
     },
     "execution_count": 20,
     "metadata": {},
     "output_type": "execute_result"
    }
   ],
   "source": [
    "from sklearn.tree import DecisionTreeRegressor\n",
    "algo3=DecisionTreeRegressor()\n",
    "algo3.fit(x_tr,y_tr)\n",
    "algo3.score(x_ts,y_ts),algo3.predict(x_prd)"
   ]
  },
  {
   "cell_type": "code",
   "execution_count": 21,
   "metadata": {},
   "outputs": [
    {
     "name": "stderr",
     "output_type": "stream",
     "text": [
      "D:\\kiit_user_download\\Anaconda3\\lib\\site-packages\\ipykernel_launcher.py:4: DataConversionWarning: Data with input dtype int64 were all converted to float64 by the scale function.\n",
      "  after removing the cwd from sys.path.\n",
      "D:\\kiit_user_download\\Anaconda3\\lib\\site-packages\\ipykernel_launcher.py:5: DataConversionWarning: Data with input dtype int64 were all converted to float64 by the scale function.\n",
      "  \"\"\"\n"
     ]
    },
    {
     "data": {
      "text/plain": [
       "(0.75695239383925, array([68.54778936]))"
      ]
     },
     "execution_count": 21,
     "metadata": {},
     "output_type": "execute_result"
    }
   ],
   "source": [
    "from sklearn.preprocessing import scale\n",
    "from sklearn.svm import SVR\n",
    "algo2=SVR()\n",
    "algo2.fit(scale(x_tr),y_tr)\n",
    "algo2.score(scale(x_ts),y_ts),algo2.predict(scale(x_prd))"
   ]
  },
  {
   "cell_type": "code",
   "execution_count": 22,
   "metadata": {},
   "outputs": [],
   "source": [
    "import numpy as np\n",
    "import pandas as pd\n",
    "from sklearn.linear_model import LinearRegression\n",
    "from sklearn.model_selection import train_test_split\n",
    "def fun(g,h,pw,d,m):\n",
    "    data=pd.read_csv(r'C:\\Users\\KIIT\\Downloads\\ML\\foodDiet.csv');\n",
    "    x=data.drop(['weight6weeks','Age','Person',],axis=1)\n",
    "    y=data['weight6weeks']\n",
    "    x_prd=[[g,h,pw,d]]\n",
    "    x_p=pd.DataFrame(x_prd,columns=['Gender','Height','pre.weight','Diet'])\n",
    "    x_tr,x_ts,y_tr,y_ts=train_test_split(x,y,test_size=0.2)\n",
    "    algo=LinearRegression()\n",
    "    algo.fit(x_tr,y_tr)\n",
    "    algo.score(x_ts,y_ts)\n",
    "    pr=algo.predict(x_p)\n",
    "    m.config(text=str(pr))\n"
   ]
  },
  {
   "cell_type": "code",
   "execution_count": 23,
   "metadata": {},
   "outputs": [],
   "source": [
    "from tkinter import *\n",
    "def gui():\n",
    "    scr=Tk()\n",
    "    label=Label(scr,font=('times',20,'bold'),text='Gender')\n",
    "    label.grid(row=0,column=0)\n",
    "    Gender=DoubleVar()\n",
    "    op=OptionMenu(scr,Gender,'0','1')\n",
    "    op.grid(row=0,column=1)\n",
    "    label2=Label(scr,font=('times',20,'bold'),text='heigth in cm')\n",
    "    label2.grid(row=2,column=0)\n",
    "    h=Entry(scr,font=('times',20,'bold'))\n",
    "    h.grid(row=2,column=1)\n",
    "    label3=Label(scr,font=('times',20,'bold'),text='previous_weigth ')\n",
    "    label3.grid(row=3,column=0)\n",
    "    pw=Entry(scr,font=('times',20,'bold'))\n",
    "    pw.grid(row=3,column=1)\n",
    "    label4=Label(scr,font=('times',20,'bold'),text='Diet ')\n",
    "    label4.grid(row=4,column=0)\n",
    "    d=Entry(scr,font=('times',20,'bold'))\n",
    "    d.grid(row=4,column=1)\n",
    "    b=Button(scr,text='evaluate',font=('times',20,'bold'),command=lambda :fun(Gender.get(),h.get(),pw.get(),d.get(),m))\n",
    "    b.grid(row=5,column=0)\n",
    "    m=Message(scr,font=('times',20,'bold'))\n",
    "    m.grid(row=5,columnspan=7)\n",
    "    scr.mainloop()"
   ]
  },
  {
   "cell_type": "code",
   "execution_count": 24,
   "metadata": {},
   "outputs": [],
   "source": [
    "gui()"
   ]
  },
  {
   "cell_type": "code",
   "execution_count": 26,
   "metadata": {},
   "outputs": [],
   "source": [
    "import numpy as np\n",
    "import pandas as pd\n",
    "from sklearn.model_selection import train_test_split\n",
    "from sklearn.ensemble import RandomForestClassifier\n",
    "def Cm(a,Album,Sug,RCB,Pc,pcc,bb,sc,pt,hm,pcv,hyper,apet,m):\n",
    "    data=pd.read_csv(r'C:\\Users\\KIIT\\Downloads\\ML\\chronic_kidney_disease.csv')\n",
    "    data=data.replace('?',999999)\n",
    "    for i in data.columns:\n",
    "        if data[i].dtype==object:\n",
    "            data[i]=data[i].replace(12,'nan')\n",
    "    for i in data.columns:\n",
    "        if data[i].dtype==object:\n",
    "            data[i]=data[i].astype(dtype='category').cat.codes\n",
    "    x=data.drop(['class','blood pressure','blood urea','sodium','Unnamed: 25','blood glucose random','pedal edema','specific gravity','anemia','coronary artery disease','white blood cell count','red blood cell count','diabetes mellitus','coronary artery disease'],axis=1)\n",
    "    y=data['class']\n",
    "    x_prd=[[a,Album,Sug,RCB,Pc,pcc,bb,sc,pt,hm,pcv,hyper,apet]]\n",
    "    x_p=pd.DataFrame(x_prd,columns=['age', 'albumin', 'sugar', 'red blood cells', 'pus cell',\n",
    "       'pus cell clumps', 'bacteria', 'serum creatinine', 'potassium',\n",
    "       'hemoglobin', 'packed cell volume', 'hypertension', 'appetite'])\n",
    "    x_tr,x_ts,y_tr,y_ts=train_test_split(x,y,test_size=0.2)\n",
    "    algo=RandomForestClassifier()\n",
    "    algo.fit(x_tr,y_tr)\n",
    "    algo.score(x_ts,y_ts)\n",
    "    pr=algo.predict(x_p)\n",
    "    m.config(text=str(pr))"
   ]
  },
  {
   "cell_type": "code",
   "execution_count": 27,
   "metadata": {},
   "outputs": [],
   "source": [
    "from tkinter import*\n",
    "def gui2():\n",
    "    scr=Tk()\n",
    "    label=Label(scr,font=('times',20,'bold'),text='Age')\n",
    "    label.grid(row=0,column=0)\n",
    "    a=Entry(scr,font=('times',20,'bold'))\n",
    "    a.grid(row=0,column=1)\n",
    "    label2=Label(scr,font=('times',20,'bold'),text='Albumin')\n",
    "    label2.grid(row=1,column=0)\n",
    "    Album=DoubleVar()\n",
    "    op=OptionMenu(scr,Album,'0','1','2','3','4','5')\n",
    "    op.grid(row=1,column=1)\n",
    "    label3=Label(scr,font=('times',20,'bold'),text='Sugar')\n",
    "    label3.grid(row=2,column=0)\n",
    "    Sug=DoubleVar()\n",
    "    op=OptionMenu(scr,Sug,'0','1','2','3','4','5')\n",
    "    op.grid(row=2,column=1)\n",
    "    label4=Label(scr,font=('times',20,'bold'),text='RCB')\n",
    "    label4.grid(row=3,column=0)\n",
    "    RCB=DoubleVar()\n",
    "    op=OptionMenu(scr,RCB,'0','1','2')\n",
    "    op.grid(row=3,column=1)\n",
    "    label5=Label(scr,font=('times',20,'bold'),text='Pus cell')\n",
    "    label5.grid(row=4,column=0)\n",
    "    Pc=DoubleVar()\n",
    "    op=OptionMenu(scr,Pc,'0','1','2')\n",
    "    op.grid(row=4,column=1)\n",
    "    label6=Label(scr,font=('times',20,'bold'),text='Pus cell count')\n",
    "    label6.grid(row=5,column=0)\n",
    "    pcc=DoubleVar()\n",
    "    op=OptionMenu(scr,pcc,'0','1','2')\n",
    "    op.grid(row=5,column=1)\n",
    "    label7=Label(scr,font=('times',20,'bold'),text='bacteria')\n",
    "    label7.grid(row=6,column=0)\n",
    "    bb=DoubleVar()\n",
    "    op=OptionMenu(scr,bb,'0','1','2')\n",
    "    op.grid(row=6,column=1)\n",
    "    label8=Label(scr,font=('times',20,'bold'),text='serum creatinine')\n",
    "    label8.grid(row=7,column=0)\n",
    "    sc=Entry(scr,font=('times',20,'bold'))\n",
    "    sc.grid(row=7,column=1)\n",
    "    label9=Label(scr,font=('times',20,'bold'),text='potassium')\n",
    "    label9.grid(row=8,column=0)\n",
    "    pt=Entry(scr,font=('times',20,'bold'))\n",
    "    pt.grid(row=8,column=1)\n",
    "    label10=Label(scr,font=('times',20,'bold'),text='hemoglobin')\n",
    "    label10.grid(row=9,column=0)\n",
    "    hm=Entry(scr,font=('times',20,'bold'))\n",
    "    hm.grid(row=9,column=1)\n",
    "    label11=Label(scr,font=('times',20,'bold'),text='p cell volume')\n",
    "    label11.grid(row=10,column=0)\n",
    "    pcv=Entry(scr,font=('times',20,'bold'))\n",
    "    pcv.grid(row=10,column=1)\n",
    "    label12=Label(scr,font=('times',20,'bold'),text='hypertension')\n",
    "    label12.grid(row=11,column=0)\n",
    "    hyper=DoubleVar()\n",
    "    op=OptionMenu(scr,hyper,'1','2')\n",
    "    op.grid(row=11,column=1)\n",
    "    label13=Label(scr,font=('times',20,'bold'),text='apetitide')\n",
    "    label13.grid(row=12,column=0)\n",
    "    apet=DoubleVar()\n",
    "    op=OptionMenu(scr,apet,'0','3')\n",
    "    op.grid(row=12,column=1)\n",
    "    b=Button(scr,text='evaluate',font=('times',20,'bold'),command=lambda :Cm(a.get(),Album.get(),Sug.get(),RCB.get(),Pc.get(),pcc.get(),bb.get(),\n",
    "    sc.get(),pt.get(),hm.get(),pcv.get(),hyper.get(),apet.get(),m))\n",
    "    b.grid(row=13,column=0)\n",
    "    m=Message(scr,font=('times',20,'bold'))\n",
    "    m.grid(row=13,columnspan=7)\n",
    "    scr.mainloop()"
   ]
  },
  {
   "cell_type": "code",
   "execution_count": 28,
   "metadata": {},
   "outputs": [],
   "source": [
    "import numpy as np\n",
    "import pandas as pd\n",
    "from sklearn.model_selection import train_test_split\n",
    "from sklearn.ensemble import RandomForestClassifier\n",
    "def ht(a,sex,ster,lb,lf,spi,asc,var,bi,sg,al,pr,his,m):\n",
    "    data=pd.read_csv(r'C:\\Users\\KIIT\\Downloads\\hept.csv')\n",
    "    data=data.replace('?',0)\n",
    "    x=data.drop(['class','ANTIVIRALS','SPLEEN PALPABLE','FATIGUE', 'MALAISE', 'ANOREXIA','ALK PHOSPHATE'],axis=1)\n",
    "    y=data['class']\n",
    "    x_prd=[[a,sex,ster,lb,lf,spi,asc,var,bi,sg,al,pr,his]]\n",
    "    x_p=pd.DataFrame(x_prd,columns=['AGE', 'SEX', 'STEROID', 'LIVER BIG', 'LIVER FIRM', 'SPIDERS',\n",
    "       'ASCITES', 'VARICES', 'BILIRUBIN','SGOT', 'ALBUMIN',\n",
    "       'PROTIME', 'HISTOLOGY'])\n",
    "    from sklearn.model_selection import train_test_split\n",
    "    x_tr,x_ts,y_tr,y_ts=train_test_split(x,y,test_size=0.2)\n",
    "    from sklearn.ensemble import RandomForestClassifier\n",
    "    algo=RandomForestClassifier()\n",
    "    algo.fit(x_tr,y_tr)#irjet#turmtin\n",
    "    algo.score(x_ts,y_ts)\n",
    "    pr=algo.predict(x_p)\n",
    "    m.config(text=str(pr))"
   ]
  },
  {
   "cell_type": "code",
   "execution_count": 29,
   "metadata": {},
   "outputs": [],
   "source": [
    "from tkinter import*\n",
    "def gui3():\n",
    "    scr=Tk()\n",
    "    label=Label(scr,font=('times',20,'bold'),text='Age')\n",
    "    label.grid(row=0,column=0)\n",
    "    a=Entry(scr,font=('times',20,'bold'))\n",
    "    a.grid(row=0,column=1)\n",
    "    label2=Label(scr,font=('times',20,'bold'),text='Sex')\n",
    "    label2.grid(row=1,column=0)\n",
    "    sex=DoubleVar()\n",
    "    op=OptionMenu(scr,sex,'1','2')\n",
    "    op.grid(row=1,column=1)\n",
    "    label3=Label(scr,font=('times',20,'bold'),text='Steroid')\n",
    "    label3.grid(row=2,column=0)\n",
    "    ster=DoubleVar()\n",
    "    op6=OptionMenu(scr,ster,'1','2')\n",
    "    op6.grid(row=2,column=1)\n",
    "    label4=Label(scr,font=('times',20,'bold'),text='LiverBIG')\n",
    "    label4.grid(row=3,column=0)\n",
    "    lb=DoubleVar()\n",
    "    op5=OptionMenu(scr,lb,'0','1','2')\n",
    "    op5.grid(row=3,column=1)\n",
    "    label5=Label(scr,font=('times',20,'bold'),text='LiverFirm')\n",
    "    label5.grid(row=4,column=0)\n",
    "    lf=DoubleVar()\n",
    "    op4=OptionMenu(scr,lf,'0','1','2')\n",
    "    op4.grid(row=4,column=1)\n",
    "    label6=Label(scr,font=('times',20,'bold'),text='Spiders')\n",
    "    label6.grid(row=5,column=0)\n",
    "    spi=DoubleVar()\n",
    "    op3=OptionMenu(scr,spi,'0','1','2')\n",
    "    op3.grid(row=5,column=1)\n",
    "    label7=Label(scr,font=('times',20,'bold'),text='ASCITES')\n",
    "    label7.grid(row=6,column=0)\n",
    "    asc=DoubleVar()\n",
    "    op2=OptionMenu(scr,asc,'0','1','2')\n",
    "    op2.grid(row=6,column=1)\n",
    "    label8=Label(scr,font=('times',20,'bold'),text='VARICES')\n",
    "    label8.grid(row=7,column=0)\n",
    "    var=DoubleVar()\n",
    "    op1=OptionMenu(scr,var,'0','1','2')\n",
    "    op1.grid(row=7,column=1)\n",
    "    label9=Label(scr,font=('times',20,'bold'),text='BILIRUBIN')\n",
    "    label9.grid(row=8,column=0)\n",
    "    bi=Entry(scr,font=('times',20,'bold'))\n",
    "    bi.grid(row=8,column=1)\n",
    "    label10=Label(scr,font=('times',20,'bold'),text='SGOT')\n",
    "    label10.grid(row=9,column=0)\n",
    "    sg=Entry(scr,font=('times',20,'bold'))\n",
    "    sg.grid(row=9,column=1)\n",
    "    label11=Label(scr,font=('times',20,'bold'),text='ALBUMIN')\n",
    "    label11.grid(row=10,column=0)\n",
    "    al=Entry(scr,font=('times',20,'bold'))\n",
    "    al.grid(row=10,column=1)\n",
    "    label12=Label(scr,font=('times',20,'bold'),text='PROTIME')\n",
    "    label12.grid(row=11,column=0)\n",
    "    pr=Entry(scr,font=('times',20,'bold'))\n",
    "    pr.grid(row=11,column=1)\n",
    "    label13=Label(scr,font=('times',20,'bold'),text='HISTOLOGY')\n",
    "    label13.grid(row=12,column=0)\n",
    "    his=DoubleVar()\n",
    "    op7=OptionMenu(scr,his,'1','2')\n",
    "    op7.grid(row=12,column=1)\n",
    "    b=Button(scr,text='evaluate',font=('times',20,'bold'),command=lambda :ht(a.get(),sex.get(),ster.get(),lb.get(),lf.get(),spi.get(),asc.get(),\n",
    "    var.get(),bi.get(),sg.get(),al.get(),pr.get(),his.get(),m))\n",
    "    b.grid(row=13,column=0)\n",
    "    m=Message(scr,font=('times',20,'bold'))\n",
    "    m.grid(row=13,columnspan=7)\n",
    "    scr.mainloop()"
   ]
  },
  {
   "cell_type": "code",
   "execution_count": 30,
   "metadata": {},
   "outputs": [],
   "source": [
    "import numpy as np\n",
    "import pandas as pd\n",
    "from sklearn.model_selection import train_test_split\n",
    "from sklearn.linear_model import LogisticRegression\n",
    "def chd(male,a,cs,cpd,ps,ph,d,tc,sbp,dpb,hr,gl,m):\n",
    "    data=pd.read_csv(r'C:\\Users\\KIIT\\Downloads\\framingham_heart_disease.csv')\n",
    "    data=data.dropna(how='any')\n",
    "    x=data.drop(['TenYearCHD','education','BPMeds','BMI'],axis=1)\n",
    "    y=data['TenYearCHD']\n",
    "    x_prd=[[male,a,cs,cpd,ps,ph,d,tc,sbp,dpb,hr,gl]]\n",
    "    x_p=pd.DataFrame(x_prd,columns=['male','age','currentSmoker','cigsPerDay','prevalentStroke','prevalentHyp','diabetes','totChol','sysBP','diaBP','heartRate','glucose'])\n",
    "    x_tr,x_ts,y_tr,y_ts=train_test_split(x,y,test_size=0.2)\n",
    "    algo=LogisticRegression()\n",
    "    algo.fit(x_tr,y_tr)\n",
    "    algo.score(x_ts,y_ts)\n",
    "    pr=algo.predict(x_p)\n",
    "    m.config(text=str(pr))"
   ]
  },
  {
   "cell_type": "code",
   "execution_count": 31,
   "metadata": {},
   "outputs": [],
   "source": [
    "from tkinter import*\n",
    "def gui4():\n",
    "    scr=Tk()\n",
    "    label=Label(scr,font=('times',20,'bold'),text='Male')\n",
    "    label.grid(row=0,column=0)\n",
    "    male=DoubleVar()\n",
    "    op=OptionMenu(scr,male,'0','1')\n",
    "    op.grid(row=0,column=1)\n",
    "    label1=Label(scr,font=('times',20,'bold'),text='Age')\n",
    "    label1.grid(row=1,column=0)\n",
    "    a=Entry(scr,font=('times',20,'bold'))\n",
    "    a.grid(row=1,column=1)\n",
    "    label2=Label(scr,font=('times',20,'bold'),text='Currentsmoker')\n",
    "    label2.grid(row=2,column=0)\n",
    "    cs=DoubleVar()\n",
    "    op=OptionMenu(scr,cs,'0','1')\n",
    "    op.grid(row=2,column=1)\n",
    "    label3=Label(scr,font=('times',20,'bold'),text='ciggperday')\n",
    "    label3.grid(row=3,column=0)\n",
    "    cpd=Entry(scr,font=('times',20,'bold'))\n",
    "    cpd.grid(row=3,column=1)\n",
    "    label4=Label(scr,font=('times',20,'bold'),text='prevalentStroke ')\n",
    "    label4.grid(row=4,column=0)\n",
    "    ps=DoubleVar()\n",
    "    op=OptionMenu(scr,ps,'0','1')\n",
    "    op.grid(row=4,column=1)\n",
    "    label5=Label(scr,font=('times',20,'bold'),text='prevalentHyp')\n",
    "    label5.grid(row=5,column=0)\n",
    "    ph=DoubleVar()\n",
    "    op=OptionMenu(scr,ph,'0','1')\n",
    "    op.grid(row=5,column=1)\n",
    "    label6=Label(scr,font=('times',20,'bold'),text='diabetes')\n",
    "    label6.grid(row=6,column=0)\n",
    "    d=DoubleVar()\n",
    "    op=OptionMenu(scr,d,'0','1')\n",
    "    op.grid(row=6,column=1)\n",
    "    label7=Label(scr,font=('times',20,'bold'),text='totalcholestrol')\n",
    "    label7.grid(row=7,column=0)\n",
    "    tc=Entry(scr,font=('times',20,'bold'))\n",
    "    tc.grid(row=7,column=1)\n",
    "    label8=Label(scr,font=('times',20,'bold'),text='sysbp')\n",
    "    label8.grid(row=8,column=0)\n",
    "    sbp=Entry(scr,font=('times',20,'bold'))\n",
    "    sbp.grid(row=8,column=1)\n",
    "    label9=Label(scr,font=('times',20,'bold'),text='diabp')\n",
    "    label9.grid(row=9,column=0)\n",
    "    dbp=Entry(scr,font=('times',20,'bold'))\n",
    "    dbp.grid(row=9,column=1)\n",
    "    label10=Label(scr,font=('times',20,'bold'),text='heartrate')\n",
    "    label10.grid(row=10,column=0)\n",
    "    hr=Entry(scr,font=('times',20,'bold'))\n",
    "    hr.grid(row=10,column=1)\n",
    "    label11=Label(scr,font=('times',20,'bold'),text='glucose')\n",
    "    label11.grid(row=11,column=0)\n",
    "    gl=Entry(scr,font=('times',20,'bold'))\n",
    "    gl.grid(row=11,column=1)\n",
    "    b=Button(scr,text='evaluate',font=('times',20,'bold'),command=lambda :chd(male.get(),a.get(),cs.get(),cpd.get(),ps.get(),ph.get(),d.get(),\n",
    "    tc.get(),sbp.get(),dbp.get(),hr.get(),gl.get(),m))\n",
    "    b.grid(row=12,column=0)\n",
    "    m=Message(scr,font=('times',20,'bold'))\n",
    "    m.grid(row=12,columnspan=7)\n",
    "    scr.mainloop()\n",
    "    "
   ]
  },
  {
   "cell_type": "code",
   "execution_count": 32,
   "metadata": {},
   "outputs": [],
   "source": [
    "from tkinter import *\n",
    "def gui1():\n",
    "    scr=Tk()\n",
    "    f1=Frame(scr)\n",
    "    f2=Frame(scr)\n",
    "    for frame in (f1,f2):\n",
    "        frame.grid(row=0, column=0)\n",
    "    b=Button(f1,text='weigth_after6months',font=('times',20,'bold'),command=lambda:gui()).pack()\n",
    "    w=Button(f1,text='chronic_disease',font=('times',20,'bold'),command=lambda:gui2()).pack()\n",
    "    s=Button(f1,text='hepatitis',font=('times',20,'bold'),command=lambda:gui3()).pack()\n",
    "    v=Button(f1,text='Coronary heart disease ',font=('times',20,'bold'),command=lambda:gui4()).pack()\n",
    "    #b.grid(row=1,column=0)\n",
    "    scr.mainloop()"
   ]
  },
  {
   "cell_type": "code",
   "execution_count": 33,
   "metadata": {},
   "outputs": [
    {
     "name": "stderr",
     "output_type": "stream",
     "text": [
      "D:\\kiit_user_download\\Anaconda3\\lib\\site-packages\\sklearn\\ensemble\\forest.py:246: FutureWarning: The default value of n_estimators will change from 10 in version 0.20 to 100 in 0.22.\n",
      "  \"10 in version 0.20 to 100 in 0.22.\", FutureWarning)\n"
     ]
    }
   ],
   "source": [
    "gui1()"
   ]
  },
  {
   "cell_type": "code",
   "execution_count": 25,
   "metadata": {},
   "outputs": [],
   "source": [
    "from tkinter import *\n",
    "def raise_frame(frame):\n",
    "    frame.tkraise()\n",
    "root = Tk()\n",
    "f1 = Frame(root)\n",
    "f2 = Frame(root)\n",
    "f3 = Frame(root)\n",
    "f4 = Frame(root)\n",
    "\n",
    "for frame in (f1, f2, f3, f4):\n",
    "    frame.grid(row=0, column=0, sticky='news')\n",
    "\n",
    "Button(f1, text='Go to frame 2', command=lambda:gui())\n",
    "Label(f1, text='FRAME 1').pack()\n",
    "\n",
    "Label(f2, text='FRAME 2').pack()\n",
    "Button(f2, text='Go to frame 3', command=lambda:raise_frame(f3)).pack()\n",
    "\n",
    "Label(f3, text='FRAME 3').pack(side='left')\n",
    "Button(f3, text='Go to frame 4', command=lambda:raise_frame(f4)).pack(side='left')\n",
    "\n",
    "Label(f4, text='FRAME 4').pack()\n",
    "Button(f4, text='Goto to frame 1', command=lambda:raise_frame(f1)).pack()\n",
    "\n",
    "raise_frame(f1)\n",
    "root.mainloop()"
   ]
  },
  {
   "cell_type": "code",
   "execution_count": null,
   "metadata": {},
   "outputs": [],
   "source": []
  }
 ],
 "metadata": {
  "kernelspec": {
   "display_name": "Python 3",
   "language": "python",
   "name": "python3"
  },
  "language_info": {
   "codemirror_mode": {
    "name": "ipython",
    "version": 3
   },
   "file_extension": ".py",
   "mimetype": "text/x-python",
   "name": "python",
   "nbconvert_exporter": "python",
   "pygments_lexer": "ipython3",
   "version": "3.7.3"
  }
 },
 "nbformat": 4,
 "nbformat_minor": 2
}
